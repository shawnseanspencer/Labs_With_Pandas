{
 "cells": [
  {
   "cell_type": "markdown",
   "id": "94258c3f-ee7c-4df0-ae40-4eb1e6aa8c92",
   "metadata": {},
   "source": [
    "$$\\text{Chem 1B Lab 5 (Dissociation Constant, Ka)}$$"
   ]
  },
  {
   "cell_type": "code",
   "execution_count": 131,
   "id": "c0434046-bb6f-4622-9b53-f4a32b0c4993",
   "metadata": {},
   "outputs": [
    {
     "data": {
      "text/html": [
       "<div>\n",
       "<style scoped>\n",
       "    .dataframe tbody tr th:only-of-type {\n",
       "        vertical-align: middle;\n",
       "    }\n",
       "\n",
       "    .dataframe tbody tr th {\n",
       "        vertical-align: top;\n",
       "    }\n",
       "\n",
       "    .dataframe thead th {\n",
       "        text-align: right;\n",
       "    }\n",
       "</style>\n",
       "<table border=\"1\" class=\"dataframe\">\n",
       "  <thead>\n",
       "    <tr style=\"text-align: right;\">\n",
       "      <th></th>\n",
       "      <th>i_M</th>\n",
       "      <th>Factor</th>\n",
       "      <th>Mf</th>\n",
       "    </tr>\n",
       "  </thead>\n",
       "  <tbody>\n",
       "    <tr>\n",
       "      <th>0</th>\n",
       "      <td>0.2</td>\n",
       "      <td>50.0</td>\n",
       "      <td>10.0</td>\n",
       "    </tr>\n",
       "    <tr>\n",
       "      <th>1</th>\n",
       "      <td>0.3</td>\n",
       "      <td>50.0</td>\n",
       "      <td>15.0</td>\n",
       "    </tr>\n",
       "    <tr>\n",
       "      <th>2</th>\n",
       "      <td>0.4</td>\n",
       "      <td>50.0</td>\n",
       "      <td>20.0</td>\n",
       "    </tr>\n",
       "    <tr>\n",
       "      <th>3</th>\n",
       "      <td>0.5</td>\n",
       "      <td>50.0</td>\n",
       "      <td>25.0</td>\n",
       "    </tr>\n",
       "  </tbody>\n",
       "</table>\n",
       "</div>"
      ],
      "text/plain": [
       "   i_M  Factor    Mf\n",
       "0  0.2    50.0  10.0\n",
       "1  0.3    50.0  15.0\n",
       "2  0.4    50.0  20.0\n",
       "3  0.5    50.0  25.0"
      ]
     },
     "execution_count": 131,
     "metadata": {},
     "output_type": "execute_result"
    }
   ],
   "source": [
    "import pandas as pd\n",
    "import matplotlib.pyplot as plt\n",
    "M = pd.DataFrame({'i_M':[.2,.3,.4,.5], 'Factor': [100/2, 100/2, 100/2,100/2]})\n",
    "M['Mf'] = M['i_M'] * M['Factor']\n",
    "M"
   ]
  },
  {
   "cell_type": "code",
   "execution_count": 96,
   "id": "47866c52-0b52-4cd2-b47c-056b760790b4",
   "metadata": {},
   "outputs": [
    {
     "data": {
      "text/html": [
       "<div>\n",
       "<style scoped>\n",
       "    .dataframe tbody tr th:only-of-type {\n",
       "        vertical-align: middle;\n",
       "    }\n",
       "\n",
       "    .dataframe tbody tr th {\n",
       "        vertical-align: top;\n",
       "    }\n",
       "\n",
       "    .dataframe thead th {\n",
       "        text-align: right;\n",
       "    }\n",
       "</style>\n",
       "<table border=\"1\" class=\"dataframe\">\n",
       "  <thead>\n",
       "    <tr style=\"text-align: right;\">\n",
       "      <th></th>\n",
       "      <th>Ka</th>\n",
       "    </tr>\n",
       "  </thead>\n",
       "  <tbody>\n",
       "    <tr>\n",
       "      <th>0</th>\n",
       "      <td>1.265975</td>\n",
       "    </tr>\n",
       "    <tr>\n",
       "      <th>1</th>\n",
       "      <td>1.217996</td>\n",
       "    </tr>\n",
       "    <tr>\n",
       "      <th>2</th>\n",
       "      <td>1.260020</td>\n",
       "    </tr>\n",
       "    <tr>\n",
       "      <th>3</th>\n",
       "      <td>1.268286</td>\n",
       "    </tr>\n",
       "  </tbody>\n",
       "</table>\n",
       "</div>"
      ],
      "text/plain": [
       "         Ka\n",
       "0  1.265975\n",
       "1  1.217996\n",
       "2  1.260020\n",
       "3  1.268286"
      ]
     },
     "execution_count": 96,
     "metadata": {},
     "output_type": "execute_result"
    }
   ],
   "source": [
    "#Experimental Ka Values\n",
    "x = pd.DataFrame({'x':[10**(-2.8), 10**(-2.72), 10**(-2.65), 10**(-2.60)]})\n",
    "\n",
    "Ka = pd.DataFrame({'Ka': x['x']**2/(M['i_M']-x['x']) * 10**(5)})\n",
    "Ka"
   ]
  },
  {
   "cell_type": "code",
   "execution_count": 97,
   "id": "1d0b4337-7a0a-4a12-bda0-c3902ea9574e",
   "metadata": {},
   "outputs": [
    {
     "name": "stdout",
     "output_type": "stream",
     "text": [
      "Average Ka: 1.2530695410237742\n",
      "30.38502549867921\n"
     ]
    }
   ],
   "source": [
    "#Average Ka and Percent Error From Expected Value\n",
    "sum = 0\n",
    "for item in Ka['Ka']:\n",
    "    sum += item\n",
    "print(\"Average Ka:\", sum/4)\n",
    "accepted_Ka = 1.8e-5\n",
    "print((accepted_Ka-(sum/4)*10**(-5))/accepted_Ka * 100)"
   ]
  },
  {
   "cell_type": "code",
   "execution_count": 98,
   "id": "30e470a8-8144-4ee9-9c02-e85a94fd9311",
   "metadata": {},
   "outputs": [
    {
     "data": {
      "text/html": [
       "<div>\n",
       "<style scoped>\n",
       "    .dataframe tbody tr th:only-of-type {\n",
       "        vertical-align: middle;\n",
       "    }\n",
       "\n",
       "    .dataframe tbody tr th {\n",
       "        vertical-align: top;\n",
       "    }\n",
       "\n",
       "    .dataframe thead th {\n",
       "        text-align: right;\n",
       "    }\n",
       "</style>\n",
       "<table border=\"1\" class=\"dataframe\">\n",
       "  <thead>\n",
       "    <tr style=\"text-align: right;\">\n",
       "      <th></th>\n",
       "      <th>% dissoc</th>\n",
       "    </tr>\n",
       "  </thead>\n",
       "  <tbody>\n",
       "    <tr>\n",
       "      <th>0</th>\n",
       "      <td>0.792447</td>\n",
       "    </tr>\n",
       "    <tr>\n",
       "      <th>1</th>\n",
       "      <td>0.635154</td>\n",
       "    </tr>\n",
       "    <tr>\n",
       "      <th>2</th>\n",
       "      <td>0.559680</td>\n",
       "    </tr>\n",
       "    <tr>\n",
       "      <th>3</th>\n",
       "      <td>0.502377</td>\n",
       "    </tr>\n",
       "  </tbody>\n",
       "</table>\n",
       "</div>"
      ],
      "text/plain": [
       "   % dissoc\n",
       "0  0.792447\n",
       "1  0.635154\n",
       "2  0.559680\n",
       "3  0.502377"
      ]
     },
     "execution_count": 98,
     "metadata": {},
     "output_type": "execute_result"
    }
   ],
   "source": [
    "#Percent Dissociation\n",
    "percent_dissociation = pd.DataFrame({\"% dissoc\": x['x']/M['i_M'] * 100})\n",
    "percent_dissociation"
   ]
  },
  {
   "cell_type": "code",
   "execution_count": 106,
   "id": "ad797841-08ca-46af-ab9a-61b4b2f44acb",
   "metadata": {},
   "outputs": [
    {
     "data": {
      "text/html": [
       "<div>\n",
       "<style scoped>\n",
       "    .dataframe tbody tr th:only-of-type {\n",
       "        vertical-align: middle;\n",
       "    }\n",
       "\n",
       "    .dataframe tbody tr th {\n",
       "        vertical-align: top;\n",
       "    }\n",
       "\n",
       "    .dataframe thead th {\n",
       "        text-align: right;\n",
       "    }\n",
       "</style>\n",
       "<table border=\"1\" class=\"dataframe\">\n",
       "  <thead>\n",
       "    <tr style=\"text-align: right;\">\n",
       "      <th></th>\n",
       "      <th>i_M</th>\n",
       "      <th>Factor</th>\n",
       "      <th>M</th>\n",
       "      <th>x</th>\n",
       "      <th>Ka</th>\n",
       "      <th>% dissoc</th>\n",
       "    </tr>\n",
       "  </thead>\n",
       "  <tbody>\n",
       "    <tr>\n",
       "      <th>0</th>\n",
       "      <td>0.2</td>\n",
       "      <td>50.0</td>\n",
       "      <td>10.0</td>\n",
       "      <td>0.001585</td>\n",
       "      <td>1.265975</td>\n",
       "      <td>0.792447</td>\n",
       "    </tr>\n",
       "    <tr>\n",
       "      <th>1</th>\n",
       "      <td>0.3</td>\n",
       "      <td>50.0</td>\n",
       "      <td>15.0</td>\n",
       "      <td>0.001905</td>\n",
       "      <td>1.217996</td>\n",
       "      <td>0.635154</td>\n",
       "    </tr>\n",
       "    <tr>\n",
       "      <th>2</th>\n",
       "      <td>0.4</td>\n",
       "      <td>50.0</td>\n",
       "      <td>20.0</td>\n",
       "      <td>0.002239</td>\n",
       "      <td>1.260020</td>\n",
       "      <td>0.559680</td>\n",
       "    </tr>\n",
       "    <tr>\n",
       "      <th>3</th>\n",
       "      <td>0.5</td>\n",
       "      <td>50.0</td>\n",
       "      <td>25.0</td>\n",
       "      <td>0.002512</td>\n",
       "      <td>1.268286</td>\n",
       "      <td>0.502377</td>\n",
       "    </tr>\n",
       "  </tbody>\n",
       "</table>\n",
       "</div>"
      ],
      "text/plain": [
       "   i_M  Factor     M         x        Ka  % dissoc\n",
       "0  0.2    50.0  10.0  0.001585  1.265975  0.792447\n",
       "1  0.3    50.0  15.0  0.001905  1.217996  0.635154\n",
       "2  0.4    50.0  20.0  0.002239  1.260020  0.559680\n",
       "3  0.5    50.0  25.0  0.002512  1.268286  0.502377"
      ]
     },
     "execution_count": 106,
     "metadata": {},
     "output_type": "execute_result"
    }
   ],
   "source": [
    "final_stats = pd.DataFrame({'i_M':[.2,.3,.4,.5], 'Factor': [100/2, 100/2, 100/2,100/2], \n",
    "                            \"M\":M['i_M'] * M['Factor'],\n",
    "                            'x':[10**(-2.8), 10**(-2.72), 10**(-2.65), 10**(-2.60)], \n",
    "                            'Ka': x['x']**2/(M['i_M']-x['x']) * 10**(5), \n",
    "                            \"% dissoc\": x['x']/M['i_M'] * 100})\n",
    "final_stats"
   ]
  },
  {
   "cell_type": "code",
   "execution_count": 132,
   "id": "0b0d9d27-f4a4-4c2d-b99c-6dd6b78843e4",
   "metadata": {},
   "outputs": [
    {
     "data": {
      "image/png": "[encoded data removed]",
      "text/plain": [
       "<Figure size 640x480 with 1 Axes>"
      ]
     },
     "metadata": {},
     "output_type": "display_data"
    }
   ],
   "source": [
    "final_stats[\"Ka\"].plot()\n",
    "final_stats.mean()\n",
    "plt.grid()"
   ]
  },
  {
   "cell_type": "markdown",
   "id": "7707ccd9-9b8e-4699-88ff-be2b346a27d6",
   "metadata": {},
   "source": [
    "$$\\text{Physics Lab 5: Force Vectors}$$"
   ]
  },
  {
   "cell_type": "code",
   "execution_count": 103,
   "id": "1cf044dd-03c8-4d9b-a80f-97a14d1b7082",
   "metadata": {},
   "outputs": [
    {
     "data": {
      "text/html": [
       "<div>\n",
       "<style scoped>\n",
       "    .dataframe tbody tr th:only-of-type {\n",
       "        vertical-align: middle;\n",
       "    }\n",
       "\n",
       "    .dataframe tbody tr th {\n",
       "        vertical-align: top;\n",
       "    }\n",
       "\n",
       "    .dataframe thead th {\n",
       "        text-align: right;\n",
       "    }\n",
       "</style>\n",
       "<table border=\"1\" class=\"dataframe\">\n",
       "  <thead>\n",
       "    <tr style=\"text-align: right;\">\n",
       "      <th></th>\n",
       "      <th>Mass</th>\n",
       "      <th>MErr</th>\n",
       "      <th>Angles</th>\n",
       "      <th>Tmag</th>\n",
       "      <th>Tx</th>\n",
       "      <th>Ty</th>\n",
       "      <th>Tangles</th>\n",
       "      <th>cm</th>\n",
       "      <th>Errx</th>\n",
       "      <th>Erry</th>\n",
       "    </tr>\n",
       "  </thead>\n",
       "  <tbody>\n",
       "    <tr>\n",
       "      <th>0</th>\n",
       "      <td>0.335</td>\n",
       "      <td>0.005</td>\n",
       "      <td>10</td>\n",
       "      <td>3.28501</td>\n",
       "      <td>3.235103</td>\n",
       "      <td>0.570436</td>\n",
       "      <td>10.0</td>\n",
       "      <td>5.091766</td>\n",
       "      <td>0.058239</td>\n",
       "      <td>0.064967</td>\n",
       "    </tr>\n",
       "    <tr>\n",
       "      <th>1</th>\n",
       "      <td>0.200</td>\n",
       "      <td>0.005</td>\n",
       "      <td>165</td>\n",
       "      <td>1.96120</td>\n",
       "      <td>-1.894374</td>\n",
       "      <td>0.507596</td>\n",
       "      <td>-15.0</td>\n",
       "      <td>3.039860</td>\n",
       "      <td>-0.038502</td>\n",
       "      <td>-0.020367</td>\n",
       "    </tr>\n",
       "    <tr>\n",
       "      <th>2</th>\n",
       "      <td>0.170</td>\n",
       "      <td>0.005</td>\n",
       "      <td>221</td>\n",
       "      <td>1.66702</td>\n",
       "      <td>-1.258116</td>\n",
       "      <td>-1.093664</td>\n",
       "      <td>41.0</td>\n",
       "      <td>2.583881</td>\n",
       "      <td>-0.056088</td>\n",
       "      <td>-0.054121</td>\n",
       "    </tr>\n",
       "  </tbody>\n",
       "</table>\n",
       "</div>"
      ],
      "text/plain": [
       "    Mass   MErr  Angles     Tmag        Tx        Ty  Tangles        cm  \\\n",
       "0  0.335  0.005      10  3.28501  3.235103  0.570436     10.0  5.091766   \n",
       "1  0.200  0.005     165  1.96120 -1.894374  0.507596    -15.0  3.039860   \n",
       "2  0.170  0.005     221  1.66702 -1.258116 -1.093664     41.0  2.583881   \n",
       "\n",
       "       Errx      Erry  \n",
       "0  0.058239  0.064967  \n",
       "1 -0.038502 -0.020367  \n",
       "2 -0.056088 -0.054121  "
      ]
     },
     "execution_count": 103,
     "metadata": {},
     "output_type": "execute_result"
    }
   ],
   "source": [
    "mass_data = pd.DataFrame({'Mass':[.335,.200,.170], \"MErr\":[.005,.005,.005], 'Angles':[10,165,221]})\n",
    "mass_data[\"Tmag\"] = mass_data['Mass'] * 9.806\n",
    "mass_data[\"Tx\"] = mass_data[\"Tmag\"] * np.cos(mass_data['Angles'] * np.pi/180)\n",
    "mass_data[\"Ty\"]= mass_data[\"Tmag\"] * np.sin(mass_data['Angles'] * np.pi/180)\n",
    "mass_data[\"Tangles\"] = np.arctan(mass_data[\"Ty\"]/mass_data[\"Tx\"]) * 180/np.pi\n",
    "mass_data[\"cm\"] = mass_data[\"Tmag\"] * 1.55\n",
    "mass_data['Errx'] = 9.806 * np.cos(mass_data[\"Angles\"]*np.pi/180)*mass_data[\"MErr\"] + mass_data[\"Ty\"]*0.01745\n",
    "mass_data['Erry'] = 9.806 * np.sin(mass_data[\"Angles\"]*np.pi/180)*mass_data[\"MErr\"] + mass_data[\"Tx\"]*0.01745\n",
    "mass_data"
   ]
  },
  {
   "cell_type": "code",
   "execution_count": 129,
   "id": "4ac6c50b-9db4-484e-8fef-2f0392f581d9",
   "metadata": {},
   "outputs": [
    {
     "name": "stdout",
     "output_type": "stream",
     "text": [
      "Tx: 0.08261362178154763 Ty -0.01563161113504874 Tx Error: 0.1528288661298764 Ty Error: 0.13945414461456945\n"
     ]
    }
   ],
   "source": [
    "#Total Errors\n",
    "xerr = 0\n",
    "yerr = 0\n",
    "totalx = 0\n",
    "totaly = 0\n",
    "for i in range(3):\n",
    "    totalx += mass_data[\"Tx\"][i]\n",
    "    totaly += mass_data[\"Ty\"][i]\n",
    "    xerr += np.abs(mass_data['Errx'][i])\n",
    "    yerr += np.abs(mass_data['Erry'][i])\n",
    "print(\"Tx:\", totalx, \"Ty\", totaly, \"Tx Error:\", xerr, \"Ty Error:\", yerr)"
   ]
  },
  {
   "cell_type": "code",
   "execution_count": 128,
   "id": "c99e68d9-4a8f-4c54-8a9e-569851d232f8",
   "metadata": {},
   "outputs": [
    {
     "data": {
      "text/plain": [
       "<Axes: >"
      ]
     },
     "execution_count": 128,
     "metadata": {},
     "output_type": "execute_result"
    },
    {
     "data": {
      "image/png": "[encoded data removed]",
      "text/plain": [
       "<Figure size 640x480 with 1 Axes>"
      ]
     },
     "metadata": {},
     "output_type": "display_data"
    }
   ],
   "source": []
  },
  {
   "cell_type": "code",
   "execution_count": null,
   "id": "1c063dfb-5363-4939-bc0f-4ad322f20d5f",
   "metadata": {},
   "outputs": [],
   "source": []
  }
 ],
 "metadata": {
  "kernelspec": {
   "display_name": "Python 3 (ipykernel)",
   "language": "python",
   "name": "python3"
  },
  "language_info": {
   "codemirror_mode": {
    "name": "ipython",
    "version": 3
   },
   "file_extension": ".py",
   "mimetype": "text/x-python",
   "name": "python",
   "nbconvert_exporter": "python",
   "pygments_lexer": "ipython3",
   "version": "3.12.1"
  }
 },
 "nbformat": 4,
 "nbformat_minor": 5
}
