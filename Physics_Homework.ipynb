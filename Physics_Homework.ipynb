{
 "cells": [
  {
   "cell_type": "markdown",
   "id": "61cc1ee4-8ddf-47e1-a843-b4a1e7d420b3",
   "metadata": {},
   "source": [
    "$$\\text{4A: Chapter 4}$$\n"
   ]
  },
  {
   "cell_type": "code",
   "execution_count": 139,
   "id": "11ee07bb-7db5-4dd8-b09e-000313802eea",
   "metadata": {},
   "outputs": [
    {
     "name": "stdout",
     "output_type": "stream",
     "text": [
      "110 min\n",
      "Magnitude:  0.21165081043510822\n",
      "Angle:  62.45614636936814\n"
     ]
    }
   ],
   "source": [
    "#5 East 40 min, 50 deg East of North 20 min, West 50 min\n",
    "v = 60 #km/h\n",
    "v = 60/60 #km/min\n",
    "t_total = 40+50+20 #Total Time\n",
    "print(t_total, 'min')\n",
    "\n",
    "import numpy as np\n",
    "v1 = v * np.array([1,0])\n",
    "v2 = v * np.array([np.cos(40*np.pi/180), np.sin(40*np.pi/180)])\n",
    "v3 = v * np.array([-1,0])\n",
    "print(\"Magnitude: \", np.linalg.norm(v1 * 40 + v2 + 20 + v3 * 50)/t_total)\n",
    "print(\"Angle: \", np.arctan((v1 * 40 + v2 + 20 + v3 * 50)[1]/(v1 * 40 + v2 + 20 + v3 * 50)[0]) * 180/np.pi)"
   ]
  },
  {
   "cell_type": "markdown",
   "id": "45849f4c-32b4-49c8-bfc7-92a4b78f221b",
   "metadata": {},
   "source": [
    "$$ \\text{13}$$\n",
    "$$ \\vec{r} = \\hat{i} + 4t^2\\hat{j} + t\\hat{k}$$\n",
    "$$ \\vec{v} = 8t\\hat{j} + \\hat{k} $$\n",
    "$$ \\vec{a} = 8\\hat{j} $$"
   ]
  },
  {
   "cell_type": "code",
   "execution_count": 23,
   "id": "0ce20b5a-a6a1-4dea-b30c-c3c85617317a",
   "metadata": {},
   "outputs": [
    {
     "name": "stdout",
     "output_type": "stream",
     "text": [
      "-13.5 -2.25\n"
     ]
    }
   ],
   "source": [
    "#15\n",
    "#a) v = 0, t = 3\n",
    "#b) \n",
    "x = 3*-3+0.5*-1*3**2\n",
    "y = 0.5*-0.5*3**2\n",
    "print(x, y)\n"
   ]
  },
  {
   "cell_type": "code",
   "execution_count": 27,
   "id": "8430249d-fe13-4199-ae22-f2bf59cc42d7",
   "metadata": {},
   "outputs": [
    {
     "name": "stdout",
     "output_type": "stream",
     "text": [
      "vy =  176.7766952966369\n",
      "Time in the air:  36.07687659115038\n",
      "x = 6381.638700208592\n"
     ]
    }
   ],
   "source": [
    "#23\n",
    "#a)\n",
    "vy = 250 * np.sqrt(2)/2\n",
    "print(\"vy = \" , vy)\n",
    "print(\"Time in the air: \", 2*vy /9.8)\n",
    "#b)\n",
    "print(\"x =\", vy * 36.1)"
   ]
  },
  {
   "cell_type": "code",
   "execution_count": 29,
   "id": "38df7b91-0b96-4687-8be2-b24ee2b5f350",
   "metadata": {},
   "outputs": [
    {
     "name": "stdout",
     "output_type": "stream",
     "text": [
      "t =  15.64843056715129 s\n",
      "y =  -3283.852279499115 m\n"
     ]
    }
   ],
   "source": [
    "#27\n",
    "v0 = 290\n",
    "v0y = 290 * np.sin(30)\n",
    "v0x = 290 * np.cos(30)\n",
    "x = 700 #m\n",
    "t = 700/v0x #s\n",
    "print(\"t = \", t, \"s\")\n",
    "y = v0y*t + 0.5 * 9.8 * t**2\n",
    "print(\"y = \", y, \"m\")"
   ]
  },
  {
   "cell_type": "code",
   "execution_count": 119,
   "id": "77f84954-506f-4cce-bf63-0735b63c5b85",
   "metadata": {},
   "outputs": [
    {
     "name": "stdout",
     "output_type": "stream",
     "text": [
      "theta = 0.00105827111149272\n",
      "t = 0.0993478817186728 s\n",
      "y = 0.0483630078497382 m\n"
     ]
    }
   ],
   "source": [
    "#35\n",
    "import sympy as sp\n",
    "v0 = 460 #m/s\n",
    "x = 45.7 #m\n",
    "g = 9.8\n",
    "theta = sp.Symbol(\"θ\")\n",
    "soln = sp.solve(sp.cos(theta)*sp.sin(theta)*(2*v0**2)/9.8 - x, theta)\n",
    "print('theta =',soln[2])\n",
    "angle = soln[2]\n",
    "v0x = v0 * sp.cos(angle)\n",
    "v0y = v0 * sp.sin(angle)\n",
    "t = 2*v0y/g\n",
    "print('t =', t, 's')\n",
    "print('y =', v0y * t, 'm')"
   ]
  },
  {
   "cell_type": "code",
   "execution_count": 113,
   "id": "cd077b97-2d4e-498c-8d24-db2477d7c6b0",
   "metadata": {},
   "outputs": [
    {
     "name": "stdout",
     "output_type": "stream",
     "text": [
      "v0x = 6.427876096865393  v0y = 7.66044443118978\n",
      "2.9940004532319646\n",
      "Displacement = 5.8172330192283 m\n",
      "Angle = 59.070026352875395\n"
     ]
    },
    {
     "data": {
      "image/png": "[encoded data removed]",
      "text/plain": [
       "<Figure size 640x480 with 1 Axes>"
      ]
     },
     "metadata": {},
     "output_type": "display_data"
    }
   ],
   "source": [
    "#45\n",
    "v0 = 10\n",
    "theta = 50 * np.pi/180\n",
    "g = 9.8\n",
    "v0x = 10*np.cos(theta)\n",
    "v0y = 10*np.sin(theta)\n",
    "print('v0x =', v0x, ' v0y =', v0y)\n",
    "\n",
    "ymax = v0y**2/g-0.5*v0y**2/g\n",
    "print(ymax)\n",
    "\n",
    "import matplotlib.pyplot as plt\n",
    "x = np.linspace(0,6,200)\n",
    "y = v0y*x/v0x - 0.5*g*(x/v0x)**2\n",
    "yslope = 3.6/6 * x\n",
    "\n",
    "plt.plot(x,y)\n",
    "plt.plot(x,yslope)\n",
    "print(\"Displacement =\", np.sqrt(2.99**2+4.99**2), 'm')\n",
    "print(\"Angle =\", np.arctan(4.99/2.99) * 180/np.pi)"
   ]
  },
  {
   "cell_type": "code",
   "execution_count": 76,
   "id": "26012ee8-fa04-45cb-8caa-974c50452e33",
   "metadata": {},
   "outputs": [
    {
     "name": "stdout",
     "output_type": "stream",
     "text": [
      "t = 4.672979209656035 s\n",
      "v0 = 32.402751857370696 m/s\n",
      "Height of Ball at Fence: 9.989788404009035 m\n",
      "Difference Between Fence and Ball Height 2.6697884040090347 m\n"
     ]
    }
   ],
   "source": [
    "#47\n",
    "#a)\n",
    "xf = 107 #m\n",
    "x = 97.5\n",
    "g = 9.8\n",
    "t = np.sqrt((107*(2*np.sin(np.pi/4)/g)/np.cos(np.pi/4)))\n",
    "print('t =',t, 's')\n",
    "v0 = 107/(np.cos(np.pi/4) * 4.67)\n",
    "print('v0 =', v0, 'm/s')\n",
    "v0y = v0 * np.sin(np.pi/4)\n",
    "v0x = v0 * np.cos(np.pi/4)\n",
    "y_at_fence = v0y * x/v0x - 0.5 * g * (x/v0x)**2 + 1.22\n",
    "print(\"Height of Ball at Fence:\", y_at_fence, 'm')\n",
    "print(\"Difference Between Fence and Ball Height\", y_at_fence - 7.32, 'm')"
   ]
  },
  {
   "cell_type": "code",
   "execution_count": 79,
   "id": "e6a89d05-bb56-4228-b752-2313a6fa4152",
   "metadata": {},
   "outputs": [
    {
     "name": "stdout",
     "output_type": "stream",
     "text": [
      "9.958314349441153\n",
      "9.641685650558848\n"
     ]
    }
   ],
   "source": [
    "#59\n",
    "print(9.8 + (5/(2*np.pi))**2/60*15)\n",
    "print(9.8 - (5/(2*np.pi))**2/60*15)"
   ]
  },
  {
   "cell_type": "code",
   "execution_count": 81,
   "id": "31fd5688-5df3-493b-ab77-3646b3dee7d4",
   "metadata": {},
   "outputs": [
    {
     "name": "stdout",
     "output_type": "stream",
     "text": [
      "v = 125663.70614359173 m/s\n",
      "a = 789568.3520871487 m/s^2\n"
     ]
    }
   ],
   "source": [
    "#61\n",
    "#a)\n",
    "v = 20*1000 * 2*np.pi\n",
    "print(\"v =\", v, 'm/s')\n",
    "a = v**2/(20000)\n",
    "print(\"a =\", a, 'm/s^2')"
   ]
  },
  {
   "cell_type": "code",
   "execution_count": 84,
   "id": "003c6130-dfba-4838-b308-33af0e07c62e",
   "metadata": {},
   "outputs": [
    {
     "name": "stdout",
     "output_type": "stream",
     "text": [
      "t = 0.6388765649999398 s\n",
      "v0x = 15.65247584249853 m/s\n",
      "a = 163.3333333333334 m/s^2\n"
     ]
    }
   ],
   "source": [
    "#67\n",
    "t = np.sqrt(4/g)\n",
    "print('t =', t, 's')\n",
    "v0x = 10/t\n",
    "print('v0x =', v0x, 'm/s')\n",
    "a = v0x**2/1.5\n",
    "print('a =', a, 'm/s^2')"
   ]
  },
  {
   "cell_type": "markdown",
   "id": "54fd311a-6480-4768-b0d0-e26e6345e438",
   "metadata": {},
   "source": [
    "$$\\text{4C Chapter 16}$$"
   ]
  },
  {
   "cell_type": "code",
   "execution_count": 86,
   "id": "64e6ba0b-ac52-41f5-971c-3ac35a8fb293",
   "metadata": {},
   "outputs": [
    {
     "name": "stdout",
     "output_type": "stream",
     "text": [
      "l = 40.0\n"
     ]
    }
   ],
   "source": [
    "#3\n",
    "print(\"l =\", 20*(50*10**(-3))/(25*10**(-3)))"
   ]
  },
  {
   "cell_type": "code",
   "execution_count": 91,
   "id": "3de9ccca-b5d6-4f38-8d1f-3ebf792000d7",
   "metadata": {},
   "outputs": [
    {
     "name": "stdout",
     "output_type": "stream",
     "text": [
      "frequency: 0.050670849251448276 hz\n",
      "wavelength: 2.3271056693257726 m\n",
      "speed = 0.11791642056259687 m/s\n"
     ]
    }
   ],
   "source": [
    "#13\n",
    "f = 2*np.pi/124\n",
    "print(\"frequency:\", f, 'hz')\n",
    "wavelength = 2*np.pi/2.7\n",
    "print(\"wavelength:\", wavelength, 'm')\n",
    "speed = wavelength * f\n",
    "print(\"speed =\", speed, 'm/s')"
   ]
  },
  {
   "cell_type": "code",
   "execution_count": 93,
   "id": "2debe3a3-7aa1-4ad4-9b63-fba4960d4e7d",
   "metadata": {},
   "outputs": [
    {
     "name": "stdout",
     "output_type": "stream",
     "text": [
      "wavelength = 2.9615004935834155 m\n",
      "f = 115.87837837837839 Hz\n"
     ]
    }
   ],
   "source": [
    "#19\n",
    "wavelength = 3*10**8/(101.3*10**6)\n",
    "print(\"wavelength =\", wavelength, 'm')\n",
    "f = 343/2.96\n",
    "print('f =', f, 'Hz')"
   ]
  },
  {
   "cell_type": "code",
   "execution_count": 94,
   "id": "be97cc01-2fa7-4c5f-aaa6-f1b5dd9b4ffe",
   "metadata": {},
   "outputs": [
    {
     "name": "stdout",
     "output_type": "stream",
     "text": [
      "vs = -42.875 m/s\n"
     ]
    }
   ],
   "source": [
    "#43 Doppler Effect\n",
    "v = 343\n",
    "f = 900\n",
    "f0 = 800\n",
    "vs = v*(1-f/f0)\n",
    "print('vs =', vs, 'm/s')"
   ]
  },
  {
   "cell_type": "code",
   "execution_count": 117,
   "id": "629f7b4e-8d44-4d44-ab92-edfe92ed2f6b",
   "metadata": {},
   "outputs": [
    {
     "name": "stdout",
     "output_type": "stream",
     "text": [
      "wl = 2.4 m  f = 1.2566370614359172 Hz v = 3.015928947446201 m/s\n",
      "Displacement at (0.2,0.5) is -0.0231604659013833 m\n"
     ]
    }
   ],
   "source": [
    "#55\n",
    "from numpy import *\n",
    "wl = 2*pi/(2*pi/2.4)\n",
    "f = 2*pi/(1/0.2)\n",
    "print(\"wl =\", wl, 'm ', 'f =', f, 'Hz', 'v =', wl * f, 'm/s')\n",
    "print(\"Displacement at (0.2,0.5) is\", 3*10**(-2)*sin(2*pi/2.4*0.2+0.5/0.2 + 1), 'm')"
   ]
  },
  {
   "cell_type": "code",
   "execution_count": 104,
   "id": "6861cc79-3907-4572-a2c3-ba00feff967e",
   "metadata": {},
   "outputs": [
    {
     "name": "stdout",
     "output_type": "stream",
     "text": [
      "f = 150.0 Hz\n",
      "Max Speed = 18.84955592153876 m/s\n"
     ]
    }
   ],
   "source": [
    "#57\n",
    "wl = 0.3 #m\n",
    "f = 45/wl #m\n",
    "print('f =', f, 'Hz')\n",
    "print(\"Max Speed =\", 2*pi*150*2*10**(-2), 'm/s')"
   ]
  },
  {
   "cell_type": "code",
   "execution_count": 116,
   "id": "6e848efe-d562-4f56-b6db-59cc8927ff4b",
   "metadata": {},
   "outputs": [
    {
     "name": "stdout",
     "output_type": "stream",
     "text": [
      "Tension 1: 81.25000000000001 N\n",
      "Change in Length: 1.833365660616706 mm\n"
     ]
    }
   ],
   "source": [
    "#63\n",
    "mu = 1.3*10**(-3)\n",
    "f = 196\n",
    "v = 250\n",
    "r = 0.23*10**(-3)\n",
    "Ts2 = v**2*mu\n",
    "print(\"Tension 1:\", Ts2, \"N\")\n",
    "L = .75\n",
    "E = 2e11\n",
    "deltaL = (L*Ts2)/(E*(pi*r**2))\n",
    "print(\"Change in Length:\", deltaL*1000, 'mm')"
   ]
  },
  {
   "cell_type": "code",
   "execution_count": 142,
   "id": "d15964dc-1216-4637-8f37-59641285ac50",
   "metadata": {},
   "outputs": [
    {
     "name": "stdout",
     "output_type": "stream",
     "text": [
      "Max f: 17.75837554888079 Hz  Min f: -18.875715709986984 Hz\n",
      "581.1242842900131\n"
     ]
    }
   ],
   "source": [
    "#75\n",
    "f0 = 600 #Hz\n",
    "v0 = 343 #m/s\n",
    "v = 3.33*pi #m/s\n",
    "fplus = f0/(1-v0/v)\n",
    "fminus = f0/(1+v0/v)\n",
    "print(\"Max f:\", fminus, \"Hz \", \"Min f:\", fplus, \"Hz\")\n",
    "print(600+fplus)"
   ]
  },
  {
   "cell_type": "markdown",
   "id": "004e9bcd-736f-4bb1-8829-ba5d77d09143",
   "metadata": {},
   "source": [
    "$$\\text{4C Week 5 Homework}$$"
   ]
  },
  {
   "cell_type": "code",
   "execution_count": 145,
   "id": "8c30ce38-bd9b-4caf-8e34-b14f8ed5e61a",
   "metadata": {},
   "outputs": [
    {
     "name": "stdout",
     "output_type": "stream",
     "text": [
      "Mass of Sculpture: 4.587155963302752\n"
     ]
    }
   ],
   "source": [
    "#11\n",
    "g = 9.81\n",
    "L = 0.9\n",
    "ms = 5e-3\n",
    "f = 50\n",
    "\n",
    "m = (2*f*L)**2*(ms/L)/g\n",
    "print(\"Mass of Sculpture:\", m)"
   ]
  },
  {
   "cell_type": "code",
   "execution_count": 188,
   "id": "04a51783-ca0b-44fe-9d6a-c2256312d285",
   "metadata": {},
   "outputs": [
    {
     "name": "stdout",
     "output_type": "stream",
     "text": [
      "First Three Wavelengths: [2.42 1.21 0.81]\n",
      "Again but with a closed end: [4.84 1.61 0.97]\n"
     ]
    }
   ],
   "source": [
    "#15\n",
    "v = 343 #m/s\n",
    "l = 1.21 #m\n",
    "m = np.arange(1,4,1)\n",
    "f = m * v/(2*l)\n",
    "wl = v/f\n",
    "print(\"First Three Wavelengths:\", np.round(wl,decimals=2))\n",
    "\n",
    "#b)\n",
    "m2 = np.arange(1,6,2)\n",
    "print(\"Again but with a closed end:\",np.round(4*l/m2,decimals=2))"
   ]
  },
  {
   "cell_type": "code",
   "execution_count": 156,
   "id": "ae6b7d24-9b68-4fb2-b0ba-54ec6193e04c",
   "metadata": {},
   "outputs": [
    {
     "name": "stdout",
     "output_type": "stream",
     "text": [
      "Number of Antinodes: 5.0\n",
      "Distances: [0.34 0.68 1.02 1.36 1.7 ]\n"
     ]
    }
   ],
   "source": [
    "#21\n",
    "l = 1.7 #m\n",
    "f = 250 #Hz\n",
    "v = 340 #m/s\n",
    "m = 4*l*f/v\n",
    "print(\"Number of Antinodes:\", m)\n",
    "increment = l/m\n",
    "antinodes = np.arange(1,6,1)\n",
    "print(\"Distances:\", antinodes*increment)"
   ]
  },
  {
   "cell_type": "code",
   "execution_count": 161,
   "id": "6c689309-0288-44f7-b531-4b1a9a7e3f0d",
   "metadata": {},
   "outputs": [
    {
     "name": "stdout",
     "output_type": "stream",
     "text": [
      "Amplitudes: [0.61803399 1.1755705  1.61803399 1.90211303 2.        ]\n"
     ]
    }
   ],
   "source": [
    "#37\n",
    "l = 2 #m\n",
    "A = 2 #cm\n",
    "x = np.arange(10,60,10)\n",
    "amplitudes = A*np.sin(np.pi/100*x)\n",
    "print(\"Amplitudes:\",amplitudes)"
   ]
  },
  {
   "cell_type": "code",
   "execution_count": 185,
   "id": "3acdec7b-4eac-4376-9ec6-e04d894fffc8",
   "metadata": {},
   "outputs": [
    {
     "name": "stdout",
     "output_type": "stream",
     "text": [
      "Constructive: [1420.  710.  473.  355.  284.  237.  203.  178.  158.] \n",
      "Destructive: [2840.  947.  568.  406.  316.  258.  218.  189.  167.]\n"
     ]
    }
   ],
   "source": [
    "#63\n",
    "m = np.arange(1,10,1)\n",
    "n = 1.42\n",
    "d = 500\n",
    "constructive = 2*n*d/m\n",
    "destructive = 2*n*d/(m-1/2)\n",
    "print(\"Constructive:\", np.round(constructive), \"\\nDestructive:\",np.round(destructive))"
   ]
  },
  {
   "cell_type": "code",
   "execution_count": 205,
   "id": "82030e67-dfe3-4d0e-b628-ca127159e3d4",
   "metadata": {},
   "outputs": [],
   "source": [
    "#ROUNDING FUNCTIONS\n",
    "def round2(numbers):\n",
    "    rounded_numbers = np.round(numbers,decimals=2)\n",
    "    return rounded_numbers\n",
    "def round3(numbers):\n",
    "    rounded_numbers = np.round(numbers,decimals=3)\n",
    "    return rounded_numbers"
   ]
  },
  {
   "cell_type": "code",
   "execution_count": 206,
   "id": "26ba9243-ab6a-4a7e-b626-25213b7a34ef",
   "metadata": {},
   "outputs": [
    {
     "data": {
      "text/plain": [
       "array([2840.  ,  946.67,  568.  ,  405.71,  315.56,  258.18,  218.46,\n",
       "        189.33,  167.06])"
      ]
     },
     "execution_count": 206,
     "metadata": {},
     "output_type": "execute_result"
    }
   ],
   "source": []
  },
  {
   "cell_type": "code",
   "execution_count": null,
   "id": "969f3418-b8f4-4226-8e5c-e6455185ea1a",
   "metadata": {},
   "outputs": [],
   "source": []
  }
 ],
 "metadata": {
  "kernelspec": {
   "display_name": "Python 3 (ipykernel)",
   "language": "python",
   "name": "python3"
  },
  "language_info": {
   "codemirror_mode": {
    "name": "ipython",
    "version": 3
   },
   "file_extension": ".py",
   "mimetype": "text/x-python",
   "name": "python",
   "nbconvert_exporter": "python",
   "pygments_lexer": "ipython3",
   "version": "3.12.1"
  }
 },
 "nbformat": 4,
 "nbformat_minor": 5
}
